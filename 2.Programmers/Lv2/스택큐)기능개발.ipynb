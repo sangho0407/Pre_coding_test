{
 "cells": [
  {
   "cell_type": "code",
   "execution_count": 30,
   "id": "eb6c102f",
   "metadata": {},
   "outputs": [],
   "source": [
    "import math\n",
    "\n",
    "def solution(progresses, speeds):\n",
    "    release = []\n",
    "    days = []\n",
    "    \n",
    "\n",
    "    for i in range(len(progresses)):\n",
    "        release.append(math.ceil((100 - progresses[i]) / speeds[i]))\n",
    "    \n",
    "    current_day = release[0]\n",
    "    count = 0\n",
    "    \n",
    "    for i in range(len(release)):\n",
    "        if release[i] <= current_day:\n",
    "            count += 1\n",
    "        else:\n",
    "            days.append(count)\n",
    "            count = 1\n",
    "            current_day = release[i]\n",
    "            \n",
    "    days.append(count)\n",
    "    \n",
    "    return days"
   ]
  },
  {
   "cell_type": "code",
   "execution_count": null,
   "id": "88a678a0",
   "metadata": {},
   "outputs": [],
   "source": []
  }
 ],
 "metadata": {
  "kernelspec": {
   "display_name": "Python 3 (ipykernel)",
   "language": "python",
   "name": "python3"
  },
  "language_info": {
   "codemirror_mode": {
    "name": "ipython",
    "version": 3
   },
   "file_extension": ".py",
   "mimetype": "text/x-python",
   "name": "python",
   "nbconvert_exporter": "python",
   "pygments_lexer": "ipython3",
   "version": "3.9.13"
  }
 },
 "nbformat": 4,
 "nbformat_minor": 5
}
