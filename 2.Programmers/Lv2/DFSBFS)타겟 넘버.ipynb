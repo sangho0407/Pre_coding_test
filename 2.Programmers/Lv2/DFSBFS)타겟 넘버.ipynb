{
 "cells": [
  {
   "cell_type": "code",
   "execution_count": 2,
   "id": "edddcb3e",
   "metadata": {},
   "outputs": [
    {
     "name": "stdout",
     "output_type": "stream",
     "text": [
      "0 4\n",
      "0 4\n",
      "[4, -4]\n",
      "4 1\n",
      "4 1\n",
      "-4 1\n",
      "-4 1\n",
      "[5, 3, -3, -5]\n",
      "5 2\n",
      "5 2\n",
      "3 2\n",
      "3 2\n",
      "-3 2\n",
      "-3 2\n",
      "-5 2\n",
      "-5 2\n",
      "[7, 3, 5, 1, -1, -5, -3, -7]\n",
      "7 1\n",
      "7 1\n",
      "3 1\n",
      "3 1\n",
      "5 1\n",
      "5 1\n",
      "1 1\n",
      "1 1\n",
      "-1 1\n",
      "-1 1\n",
      "-5 1\n",
      "-5 1\n",
      "-3 1\n",
      "-3 1\n",
      "-7 1\n",
      "-7 1\n",
      "[8, 6, 4, 2, 6, 4, 2, 0, 0, -2, -4, -6, -2, -4, -6, -8]\n"
     ]
    },
    {
     "data": {
      "text/plain": [
       "2"
      ]
     },
     "execution_count": 2,
     "metadata": {},
     "output_type": "execute_result"
    }
   ],
   "source": [
    "def solution(numbers, target):\n",
    "    \n",
    "    cnt = 0  # 목표값을 달성하는 경우의 수를 셀 변수\n",
    "    arr = [0]  # 초기값 0을 담은 리스트, 가능한 합계를 추적\n",
    "\n",
    "    # 각 숫자에 대해 가능한 모든 합계를 계산\n",
    "    for i in numbers:\n",
    "        tmp = []  # 임시 리스트, 새로운 합계를 저장할 곳\n",
    "\n",
    "        # 현재까지의 모든 가능한 합계를 기반으로 새로운 합계를 계산\n",
    "        for j in arr:\n",
    "            tmp.append(j + i)  # 현재 숫자를 더한 경우\\\n",
    "            print(j,i)\n",
    "            tmp.append(j - i)  # 현재 숫자를 뺀 경우\n",
    "            print(j,i)\n",
    "\n",
    "        arr = tmp  # 업데이트된 가능한 합계 리스트로 교체\n",
    "        print(tmp)\n",
    "    # 최종적으로 가능한 모든 합계 중에서 목표값과 일치하는 경우의 수를 셈\n",
    "    for i in arr:\n",
    "        if i == target:  # 목표값과 일치하는지 확인\n",
    "            cnt += 1  # 일치하면 카운트 증가\n",
    "\n",
    "    return cnt  # 목표값을 달성하는 경우의 수 반환\n",
    "\n",
    "solution([4,1,2,1],4)"
   ]
  },
  {
   "cell_type": "code",
   "execution_count": 51,
   "id": "b38cf5ba",
   "metadata": {},
   "outputs": [
    {
     "name": "stdout",
     "output_type": "stream",
     "text": [
      "2\n"
     ]
    }
   ],
   "source": [
    "a = 0  # 목표값을 달성하는 경우의 수를 저장하는 전역 변수\n",
    "\n",
    "def dfs(i, result, numbers, target):\n",
    "    global a  # 전역 변수 a를 사용\n",
    "    if i == len(numbers):  # 모든 숫자를 다 사용한 경우\n",
    "        if result == target:  # 현재 합계가 목표값과 일치하는지 확인\n",
    "            a += 1  # 목표값을 달성하면 a를 1 증가\n",
    "            return\n",
    "    else:\n",
    "        # 현재 숫자를 더하는 경우를 탐색\n",
    "        dfs(i + 1, result + numbers[i], numbers, target)\n",
    "        # 현재 숫자를 빼는 경우를 탐색\n",
    "        dfs(i + 1, result - numbers[i], numbers, target)\n",
    "\n",
    "def solution(numbers, target):\n",
    "    global a  # 전역 변수 a를 사용\n",
    "    a = 0  # a를 0으로 초기화\n",
    "    result = 0  # 초기 합계는 0\n",
    "    dfs(0, result, numbers, target)  # DFS 탐색 시작\n",
    "    return a  # 목표값을 달성하는 경우의 수 반환\n",
    "\n"
   ]
  },
  {
   "cell_type": "code",
   "execution_count": null,
   "id": "3c8bd7a1",
   "metadata": {},
   "outputs": [],
   "source": []
  }
 ],
 "metadata": {
  "kernelspec": {
   "display_name": "Python 3 (ipykernel)",
   "language": "python",
   "name": "python3"
  },
  "language_info": {
   "codemirror_mode": {
    "name": "ipython",
    "version": 3
   },
   "file_extension": ".py",
   "mimetype": "text/x-python",
   "name": "python",
   "nbconvert_exporter": "python",
   "pygments_lexer": "ipython3",
   "version": "3.9.13"
  }
 },
 "nbformat": 4,
 "nbformat_minor": 5
}
