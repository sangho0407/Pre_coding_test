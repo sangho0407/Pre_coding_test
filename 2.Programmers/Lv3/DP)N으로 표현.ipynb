{
 "cells": [
  {
   "cell_type": "code",
   "execution_count": 1,
   "id": "8341d929",
   "metadata": {
    "scrolled": true
   },
   "outputs": [
    {
     "name": "stdout",
     "output_type": "stream",
     "text": [
      "Step 1, Repeated N: 5\n",
      "Step 1 results: [5]\n",
      "Step 2, Repeated N: 55\n",
      "Step 2 results: [0, 1, 10, 25, 55]\n",
      "Step 3, Repeated N: 555\n",
      "Step 3 results: [-50, -20, -5, -4, 0, 2, 4, 5, 6, 11, 15, 20, 30, 50, 60, 125, 275, 555]\n",
      "Step 4, Repeated N: 5555\n",
      "Step 4 results: [-550, -270, -250, -120, -100, -55, -54, -45, -30, -25, -24, -20, -15, -10, -9, -6, -5, -4, -3, -2, -1, 0, 1, 2, 3, 4, 5, 6, 7, 9, 10, 11, 12, 15, 16, 20, 24, 25, 26, 30, 35, 45, 50, 54, 55, 56, 65, 75, 80, 100, 110, 111, 120, 130, 150, 250, 270, 280, 300, 550, 560, 625, 1375, 2775, 3025, 5555]\n",
      "Result: 4\n"
     ]
    }
   ],
   "source": [
    "def solution(N, number):\n",
    "    num = []  # 각 단계에서 생성된 숫자들의 집합을 저장할 리스트\n",
    "    \n",
    "    for i in range(1, 9):\n",
    "        case = set()  # 현재 단계에서 생성된 숫자들의 집합\n",
    "        case.add(int(str(N) * i))  # N을 i번 반복해서 만든 숫자 추가\n",
    "        print(f\"Step {i}, Repeated N: {int(str(N) * i)}\")\n",
    "        \n",
    "        # 이전 단계의 숫자들을 조합하여 새로운 숫자들을 생성\n",
    "        for j in range(i - 1):\n",
    "            for x in num[j]:\n",
    "                for y in num[-j - 1]:\n",
    "                    case.add(x + y)\n",
    "                    case.add(x - y)\n",
    "                    case.add(x * y)\n",
    "                    if y != 0:\n",
    "                        case.add(x // y)\n",
    "        \n",
    "        # 현재 단계에서 생성된 숫자들을 출력 (시각화)\n",
    "        print(f\"Step {i} results: {sorted(case)}\")\n",
    "        \n",
    "        if number in case:  # 목표 숫자가 현재 단계에서 생성된 숫자들에 포함되어 있는지 확인\n",
    "            return i  # 포함되어 있으면 현재 단계 반환\n",
    "        \n",
    "        num.append(case)  # 현재 단계에서 생성된 숫자들의 집합을 리스트에 추가\n",
    "    \n",
    "    return -1  # 8단계까지도 목표 숫자를 만들지 못하면 -1 반환\n",
    "\n",
    "# 예제 실행\n",
    "N = 5\n",
    "number = 12\n",
    "print(f\"Result: {solution(N, number)}\")\n"
   ]
  },
  {
   "cell_type": "code",
   "execution_count": null,
   "id": "445a9fd1",
   "metadata": {},
   "outputs": [],
   "source": []
  },
  {
   "cell_type": "code",
   "execution_count": null,
   "id": "b08bd616",
   "metadata": {},
   "outputs": [],
   "source": []
  }
 ],
 "metadata": {
  "kernelspec": {
   "display_name": "Python 3 (ipykernel)",
   "language": "python",
   "name": "python3"
  },
  "language_info": {
   "codemirror_mode": {
    "name": "ipython",
    "version": 3
   },
   "file_extension": ".py",
   "mimetype": "text/x-python",
   "name": "python",
   "nbconvert_exporter": "python",
   "pygments_lexer": "ipython3",
   "version": "3.9.13"
  }
 },
 "nbformat": 4,
 "nbformat_minor": 5
}
