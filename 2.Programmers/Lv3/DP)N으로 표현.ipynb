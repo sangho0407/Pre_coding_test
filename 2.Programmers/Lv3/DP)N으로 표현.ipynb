{
 "cells": [
  {
   "cell_type": "code",
   "execution_count": 32,
   "id": "8341d929",
   "metadata": {
    "scrolled": true
   },
   "outputs": [],
   "source": [
    "def solution(N, number):\n",
    "    # num 리스트는 각 단계에서 생성된 숫자들을 저장하기 위한 리스트입니다.\n",
    "    num = []\n",
    "    \n",
    "    # i는 N을 i번 반복해서 만든 숫자들을 포함하는 집합을 생성하기 위한 반복문의 인덱스입니다.\n",
    "    for i in range(1, 9):\n",
    "        # case는 N을 i번 반복해서 만든 숫자와 이전 단계에서 생성된 숫자들을 조합하여 만든 숫자들을 저장하는 집합입니다.\n",
    "        case = set()\n",
    "        # N을 i번 반복해서 만든 숫자를 case에 추가합니다.\n",
    "        case.add(int(str(N) * i))\n",
    "        \n",
    "        # j는 현재 단계(i)보다 작은 모든 단계에서 생성된 숫자들을 사용하여 새로운 숫자들을 생성하기 위한 반복문의 인덱스입니다.\n",
    "        for j in range(0, i - 1):\n",
    "            # num[j]는 j번째 단계에서 생성된 숫자들의 집합입니다.\n",
    "            for x in num[j]:\n",
    "                # num[-j-1]은 i-1-j번째 단계에서 생성된 숫자들의 집합입니다.\n",
    "                for y in num[-j - 1]:\n",
    "                    # x와 y를 조합하여 새로운 숫자들을 생성하고 case에 추가합니다.\n",
    "                    case.add(x + y)\n",
    "                    case.add(x - y)\n",
    "                    case.add(x * y)\n",
    "                    if y != 0:\n",
    "                        case.add(x // y)\n",
    "        \n",
    "        # 목표 숫자가 case에 포함되어 있으면 i를 반환합니다.\n",
    "        if number in case:\n",
    "            return i\n",
    "\n",
    "        # 현재 단계에서 생성된 숫자들의 집합을 num 리스트에 추가합니다.\n",
    "        num.append(case)\n",
    "    \n",
    "    # 8단계까지도 목표 숫자를 만들지 못하면 -1을 반환합니다.\n",
    "    return -1\n",
    "\n",
    "# 예시 사용\n",
    "print(solution(5, 12))  # 예를 들어 N이 5이고 number가 12인 경우\n"
   ]
  },
  {
   "cell_type": "code",
   "execution_count": null,
   "id": "445a9fd1",
   "metadata": {},
   "outputs": [],
   "source": []
  },
  {
   "cell_type": "code",
   "execution_count": null,
   "id": "b08bd616",
   "metadata": {},
   "outputs": [],
   "source": []
  }
 ],
 "metadata": {
  "kernelspec": {
   "display_name": "Python 3 (ipykernel)",
   "language": "python",
   "name": "python3"
  },
  "language_info": {
   "codemirror_mode": {
    "name": "ipython",
    "version": 3
   },
   "file_extension": ".py",
   "mimetype": "text/x-python",
   "name": "python",
   "nbconvert_exporter": "python",
   "pygments_lexer": "ipython3",
   "version": "3.9.13"
  }
 },
 "nbformat": 4,
 "nbformat_minor": 5
}
