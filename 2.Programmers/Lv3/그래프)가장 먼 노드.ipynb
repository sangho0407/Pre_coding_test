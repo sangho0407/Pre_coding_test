{
 "cells": [
  {
   "cell_type": "code",
   "execution_count": 1,
   "id": "2c9a29fd",
   "metadata": {},
   "outputs": [],
   "source": [
    "from collections import deque\n",
    "\n",
    "def solution(n, edge):\n",
    "    # 결과를 저장할 변수\n",
    "    answer = 0\n",
    "    \n",
    "    # 연결된 노드 정보를 저장할 그래프\n",
    "    graph = [[] for _ in range(n+1)]\n",
    "    \n",
    "    # 각 노드의 최단 거리를 저장할 리스트. 초기값 -1\n",
    "    distance = [-1] * (n+1)\n",
    "    \n",
    "    # 주어진 연결 정보를 바탕으로 그래프 채우기\n",
    "    for e in edge:\n",
    "        graph[e[0]].append(e[1])  # 첫 번째 노드와 연결된 두 번째 노드 추가\n",
    "        graph[e[1]].append(e[0])  # 두 번째 노드와 연결된 첫 번째 노드 추가\n",
    "    \n",
    "    # BFS를 위해 큐 생성. 시작 노드는 1번 노드\n",
    "    queue = deque([1])\n",
    "    \n",
    "    # 시작 노드의 최단 거리를 0으로 설정\n",
    "    distance[1] = 0\n",
    "    \n",
    "    # BFS(너비 우선 탐색) 수행\n",
    "    while queue:\n",
    "        # 현재 노드를 큐에서 꺼내기\n",
    "        now = queue.popleft()\n",
    "        \n",
    "        # 현재 노드에서 이동할 수 있는 모든 노드 확인\n",
    "        for i in graph[now]:\n",
    "            # 아직 방문하지 않은 노드라면\n",
    "            if distance[i] == -1:\n",
    "                # 큐에 노드 추가\n",
    "                queue.append(i)\n",
    "                # 노드의 최단 거리 갱신\n",
    "                distance[i] = distance[now] + 1\n",
    "    \n",
    "    # 가장 멀리 떨어진 노드의 개수 구하기\n",
    "    max_distance = max(distance)\n",
    "    for d in distance:\n",
    "        if d == max_distance:\n",
    "            answer += 1\n",
    "    \n",
    "    # 결과 반환\n",
    "    return answer\n"
   ]
  },
  {
   "cell_type": "code",
   "execution_count": null,
   "id": "c8dbfc6b",
   "metadata": {},
   "outputs": [],
   "source": []
  }
 ],
 "metadata": {
  "kernelspec": {
   "display_name": "Python 3 (ipykernel)",
   "language": "python",
   "name": "python3"
  },
  "language_info": {
   "codemirror_mode": {
    "name": "ipython",
    "version": 3
   },
   "file_extension": ".py",
   "mimetype": "text/x-python",
   "name": "python",
   "nbconvert_exporter": "python",
   "pygments_lexer": "ipython3",
   "version": "3.9.13"
  }
 },
 "nbformat": 4,
 "nbformat_minor": 5
}
