{
 "cells": [
  {
   "cell_type": "code",
   "execution_count": 13,
   "id": "c43857ce",
   "metadata": {},
   "outputs": [],
   "source": [
    "def solution(n, times):\n",
    "    # 최소 시간과 최대 시간을 설정합니다.\n",
    "    left = 1\n",
    "    right = max(times) * n\n",
    "    \n",
    "    while left <= right:\n",
    "        mid = (left + right) // 2\n",
    "        total = 0\n",
    "        \n",
    "        # 현재 중간값(mid) 내에 각 프로세서가 처리할 수 있는 작업 수를 계산합니다.\n",
    "        for time in times:\n",
    "            total += mid // time\n",
    "        \n",
    "        # 총 작업 수가 n 이상인 경우\n",
    "        if total >= n:\n",
    "            # 현재 중간값(mid)를 정답 후보로 저장합니다.\n",
    "            answer = mid\n",
    "            # 더 짧은 시간 내에 작업을 완료할 수 있는지 확인하기 위해 오른쪽 경계를 줄입니다.\n",
    "            right = mid - 1\n",
    "        else:\n",
    "            # 총 작업 수가 부족한 경우 더 많은 시간이 필요하므로 왼쪽 경계를 늘립니다.\n",
    "            left = mid + 1\n",
    "            \n",
    "    return answer\n"
   ]
  },
  {
   "cell_type": "code",
   "execution_count": null,
   "id": "bc342b3a",
   "metadata": {},
   "outputs": [],
   "source": []
  }
 ],
 "metadata": {
  "kernelspec": {
   "display_name": "Python 3 (ipykernel)",
   "language": "python",
   "name": "python3"
  },
  "language_info": {
   "codemirror_mode": {
    "name": "ipython",
    "version": 3
   },
   "file_extension": ".py",
   "mimetype": "text/x-python",
   "name": "python",
   "nbconvert_exporter": "python",
   "pygments_lexer": "ipython3",
   "version": "3.9.13"
  }
 },
 "nbformat": 4,
 "nbformat_minor": 5
}
